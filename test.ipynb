{
 "cells": [
  {
   "cell_type": "code",
   "execution_count": null,
   "id": "9231a648",
   "metadata": {},
   "outputs": [
    {
     "name": "stderr",
     "output_type": "stream",
     "text": [
      "/Users/jacobchang/Library/Python/3.9/lib/python/site-packages/urllib3/__init__.py:35: NotOpenSSLWarning: urllib3 v2 only supports OpenSSL 1.1.1+, currently the 'ssl' module is compiled with 'LibreSSL 2.8.3'. See: https://github.com/urllib3/urllib3/issues/3020\n",
      "  warnings.warn(\n",
      "/Users/jacobchang/Library/Python/3.9/lib/python/site-packages/tqdm/auto.py:21: TqdmWarning: IProgress not found. Please update jupyter and ipywidgets. See https://ipywidgets.readthedocs.io/en/stable/user_install.html\n",
      "  from .autonotebook import tqdm as notebook_tqdm\n"
     ]
    }
   ],
   "source": [
    "from transformers import AutoTokenizer, AutoModelForTokenClassification\n",
    "from transformers import pipeline\n",
    "\n",
    "tokenizer = AutoTokenizer.from_pretrained(\"Dizex/FoodBaseBERT\")\n",
    "model = AutoModelForTokenClassification.from_pretrained(\"Dizex/FoodBaseBERT\")\n",
    "pipe = pipeline(\"ner\", model=model, tokenizer=tokenizer)"
   ]
  },
  {
   "cell_type": "code",
   "execution_count": null,
   "id": "925a6203",
   "metadata": {},
   "outputs": [
    {
     "name": "stderr",
     "output_type": "stream",
     "text": [
      "Device set to use mps:0\n"
     ]
    },
    {
     "name": "stdout",
     "output_type": "stream",
     "text": [
      "[{'entity': 'B-FOOD', 'score': np.float32(0.6692053), 'index': 6, 'word': 'Fresh', 'start': 14, 'end': 19}, {'entity': 'I-FOOD', 'score': np.float32(0.5334641), 'index': 7, 'word': 'olive', 'start': 20, 'end': 25}, {'entity': 'I-FOOD', 'score': np.float32(0.9861605), 'index': 8, 'word': 'p', 'start': 26, 'end': 27}, {'entity': 'I-FOOD', 'score': np.float32(0.9927375), 'index': 9, 'word': '##oke', 'start': 27, 'end': 30}, {'entity': 'I-FOOD', 'score': np.float32(0.97065824), 'index': 10, 'word': 'bowl', 'start': 31, 'end': 35}, {'entity': 'B-FOOD', 'score': np.float32(0.9957469), 'index': 13, 'word': 'ch', 'start': 48, 'end': 50}, {'entity': 'B-FOOD', 'score': np.float32(0.97199684), 'index': 14, 'word': '##ia', 'start': 50, 'end': 52}, {'entity': 'I-FOOD', 'score': np.float32(0.99487525), 'index': 15, 'word': 'seeds', 'start': 53, 'end': 58}]\n"
     ]
    }
   ],
   "source": [
    "example = \"Today's meal: Fresh olive poke bowl topped with chia seeds. Very delicious!\"\n",
    "\n",
    "ner_entity_results = pipe(example)\n",
    "print(ner_entity_results)"
   ]
  },
  {
   "cell_type": "code",
   "execution_count": 5,
   "id": "d613b032",
   "metadata": {},
   "outputs": [
    {
     "name": "stdout",
     "output_type": "stream",
     "text": [
      "{'foods': ['Fresh olive p oke bowl', 'ch', 'ia seeds']}\n"
     ]
    }
   ],
   "source": [
    "foods = []\n",
    "current_food = \"\"\n",
    "\n",
    "for ent in ner_entity_results:\n",
    "    word = ent[\"word\"]\n",
    "    # Handle wordpieces (like ##oke -> oke)\n",
    "    if word.startswith(\"##\"):\n",
    "        word = word[2:]\n",
    "    \n",
    "    if ent[\"entity\"].startswith(\"B-FOOD\"):\n",
    "        if current_food:\n",
    "            foods.append(current_food.strip())\n",
    "        current_food = word + \" \"\n",
    "    elif ent[\"entity\"].startswith(\"I-FOOD\"):\n",
    "        current_food += word + \" \"\n",
    "\n",
    "# Add last entity\n",
    "if current_food:\n",
    "    foods.append(current_food.strip())\n",
    "\n",
    "# Deduplicate and clean\n",
    "foods = [f.replace(\" ##\", \"\").replace(\"  \", \" \").strip() for f in foods]\n",
    "foods = list(dict.fromkeys(foods))  # preserve order\n",
    "\n",
    "# Store in a dictionary\n",
    "food_dict = {\"foods\": foods}\n",
    "print(food_dict)"
   ]
  }
 ],
 "metadata": {
  "kernelspec": {
   "display_name": "Python 3",
   "language": "python",
   "name": "python3"
  },
  "language_info": {
   "codemirror_mode": {
    "name": "ipython",
    "version": 3
   },
   "file_extension": ".py",
   "mimetype": "text/x-python",
   "name": "python",
   "nbconvert_exporter": "python",
   "pygments_lexer": "ipython3",
   "version": "3.9.6"
  }
 },
 "nbformat": 4,
 "nbformat_minor": 5
}
