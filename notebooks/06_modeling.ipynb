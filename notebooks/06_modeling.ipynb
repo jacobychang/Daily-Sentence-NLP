{
 "cells": [
  {
   "cell_type": "code",
   "execution_count": 2,
   "id": "2264b52e",
   "metadata": {},
   "outputs": [],
   "source": [
    "import spacy\n",
    "from spacy.matcher import PhraseMatcher\n",
    "\n",
    "nlp = spacy.load(\"en_core_web_sm\")\n",
    "with open(\"../data/extra/foods.txt\", \"r\") as f:\n",
    "    foods = [line.strip() for line in f if line.strip()]\n",
    "\n",
    "# Create phrase patterns\n",
    "patterns = [nlp.make_doc(food) for food in foods]\n",
    "matcher = PhraseMatcher(nlp.vocab, attr=\"LOWER\")\n",
    "matcher.add(\"FOOD\", patterns)\n",
    "\n",
    "def extract_foods(text):\n",
    "    doc = nlp(text)\n",
    "    matches = matcher(doc)\n",
    "    return list(set([doc[start:end].text for _, start, end in matches]))"
   ]
  },
  {
   "cell_type": "code",
   "execution_count": 5,
   "id": "d6f4e175",
   "metadata": {},
   "outputs": [],
   "source": [
    "import pandas as pd\n",
    "\n",
    "df = pd.read_excel('../data/cleaned/daily_sentences_cleaned.xlsx')\n",
    "df['extracted_foods'] = df['Sentence'].apply(extract_foods)"
   ]
  },
  {
   "cell_type": "code",
   "execution_count": 7,
   "id": "ee9e0f77",
   "metadata": {},
   "outputs": [],
   "source": [
    "df.to_excel('../data/cleaned/daily_sentences_cleaned_with_foods.xlsx', index=False)"
   ]
  },
  {
   "cell_type": "code",
   "execution_count": 8,
   "id": "4088c2c1",
   "metadata": {},
   "outputs": [
    {
     "name": "stderr",
     "output_type": "stream",
     "text": [
      "/Users/jacobchang/Library/Python/3.9/lib/python/site-packages/tqdm/auto.py:21: TqdmWarning: IProgress not found. Please update jupyter and ipywidgets. See https://ipywidgets.readthedocs.io/en/stable/user_install.html\n",
      "  from .autonotebook import tqdm as notebook_tqdm\n",
      "Device set to use mps:0\n"
     ]
    }
   ],
   "source": [
    "# Use a pipeline as a high-level helper\n",
    "from transformers import pipeline\n",
    "\n",
    "pipe = pipeline(\"token-classification\", model=\"andi611/distilbert-base-uncased-ner-mit-restaurant\")"
   ]
  }
 ],
 "metadata": {
  "kernelspec": {
   "display_name": "Python 3",
   "language": "python",
   "name": "python3"
  },
  "language_info": {
   "codemirror_mode": {
    "name": "ipython",
    "version": 3
   },
   "file_extension": ".py",
   "mimetype": "text/x-python",
   "name": "python",
   "nbconvert_exporter": "python",
   "pygments_lexer": "ipython3",
   "version": "3.9.6"
  }
 },
 "nbformat": 4,
 "nbformat_minor": 5
}
